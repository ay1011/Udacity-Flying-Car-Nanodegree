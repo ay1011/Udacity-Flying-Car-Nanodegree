{
 "cells": [
  {
   "cell_type": "markdown",
   "metadata": {},
   "source": [
    "## Quaternions Solution\n"
   ]
  },
  {
   "cell_type": "markdown",
   "metadata": {},
   "source": [
    "In the following exercise you'll implement functions to convert between euler angles and quaternion representations. It's handy to easily navigate back and forth between the representations because each of their strengths. Quaternions are used to perform rotations, while euler angles are far more readable.\n",
    "\n",
    "Additionally, some messages represent gyro related data as a quaternion, while others use euler angles. It's beneficial to seamlessly handle both. Given a representation [`udacidrone`](https://github.com/udacity/udacidrone/blob/master/udacidrone/connection/message_types.py#L189-L284) performs a conversion and stores both representations."
   ]
  },
  {
   "cell_type": "markdown",
   "metadata": {},
   "source": [
    "#### Quaternion to Euler\n",
    "\\begin{aligned} \\begin{bmatrix} \\phi \\\\ \\theta \\\\ \\psi \\end{bmatrix} = \n",
    "\\begin{bmatrix} \\tan^{-1} \\frac{2(ab+cd)}{1 - 2(b^2+c^2)} \\\\ \\sin^{-1} 2(ac-db)\\\\ \\tan^{-1} \\frac{2(ad+bc)}{1 - 2(c^2+d^2)} \\end{bmatrix} \\end{aligned}\n",
    " "
   ]
  },
  {
   "cell_type": "markdown",
   "metadata": {},
   "source": [
    "#### Euler to Quaternion\n",
    "\n",
    "\\begin{aligned} \\begin{bmatrix} a\\\\ b\\\\ c\\\\ d \\end{bmatrix} \n",
    "&={\\begin{bmatrix}\\cos(\\psi /2)\\\\0\\\\0\\\\\\sin(\\psi /2)\\end{bmatrix}}{\\begin{bmatrix}\\cos(\\theta /2)\\\\0\\\\\\sin(\\theta /2)\\\\0\\end{bmatrix}}{\\begin{bmatrix}\\cos(\\phi /2)\\\\\\sin(\\phi /2)\\\\0\\\\0\\end{bmatrix}}\\\\\n",
    "&={\\begin{bmatrix}\\cos(\\phi /2)\\cos(\\theta /2)\\cos(\\psi /2)+\\sin(\\phi /2)\\sin(\\theta /2)\\sin(\\psi /2)\\\\\\sin(\\phi /2)\\cos(\\theta /2)\\cos(\\psi /2)-\\cos(\\phi /2)\\sin(\\theta /2)\\sin(\\psi /2)\\\\\\cos(\\phi /2)\\sin(\\theta /2)\\cos(\\psi /2)+\\sin(\\phi /2)\\cos(\\theta /2)\\sin(\\psi /2)\\\\\\cos(\\phi /2)\\cos(\\theta /2)\\sin(\\psi /2)-\\sin(\\phi /2)\\sin(\\theta /2)\\cos(\\psi /2)\\end{bmatrix}}\\\\\\end{aligned}"
   ]
  },
  {
   "cell_type": "code",
   "execution_count": 1,
   "metadata": {},
   "outputs": [],
   "source": [
    "import numpy as np\n",
    "\n",
    "def euler_to_quaternion(angles):\n",
    "    roll = angles[0]\n",
    "    pitch = angles[1]\n",
    "    yaw = angles[2]\n",
    "    \n",
    "    \n",
    "    sr = np.sin(roll / 2.0)\n",
    "    cr = np.cos(roll / 2.0)  \n",
    "    sp = np.sin(pitch / 2.0)\n",
    "    cp = np.cos(pitch / 2.0)   \n",
    "    sy = np.sin(yaw / 2.0)\n",
    "    cy = np.cos(yaw / 2.0)\n",
    "\n",
    "    a = cr * cp * cy + sr * sp * sy\n",
    "    b = sr * cp * cy - cr * sp * sy\n",
    "    c = cr * sp * cy + sr * cp * sy\n",
    "    d = cr * cp * sy - sr * sp * cy\n",
    "    \n",
    "    return np.array([a, b, c, d])\n",
    "\n",
    "def quaternion_to_euler(quaternion):\n",
    "    a = quaternion[0]\n",
    "    b = quaternion[1]\n",
    "    c = quaternion[2]\n",
    "    d = quaternion[3]\n",
    "    \n",
    "    roll = np.arctan2(2.0 * (a * b + c * d), 1.0 - 2.0 * (b**2 + c**2))\n",
    "    pitch = np.arcsin(2.0 * (a * c - d * b))\n",
    "    yaw = np.arctan2(2.0 * (a * d + b * c), 1.0 - 2.0 * (c**2 + d**2))\n",
    "    \n",
    "    return np.array([roll, pitch, yaw])"
   ]
  },
  {
   "cell_type": "markdown",
   "metadata": {},
   "source": [
    "Test the conversion."
   ]
  },
  {
   "cell_type": "code",
   "execution_count": 2,
   "metadata": {},
   "outputs": [
    {
     "name": "stdout",
     "output_type": "stream",
     "text": [
      "[ 0.6830127  0.6830127  0.1830127 -0.1830127]\n",
      "[ 1.57079633  0.52359878  0.        ]\n"
     ]
    }
   ],
   "source": [
    "euler = np.array([np.deg2rad(90), np.deg2rad(30), np.deg2rad(0)])\n",
    "\n",
    "# should be [ 0.683  0.683  0.183 -0.183]\n",
    "q = euler_to_quaternion(euler) \n",
    "print(q)\n",
    "\n",
    "# should be [ 1.570  0.523  0.]\n",
    "e = quaternion_to_euler(q)\n",
    "print(e)\n",
    "assert np.allclose(euler, quaternion_to_euler(q))"
   ]
  }
 ],
 "metadata": {
  "kernelspec": {
   "display_name": "Python 3",
   "language": "python",
   "name": "python3"
  },
  "language_info": {
   "codemirror_mode": {
    "name": "ipython",
    "version": 3
   },
   "file_extension": ".py",
   "mimetype": "text/x-python",
   "name": "python",
   "nbconvert_exporter": "python",
   "pygments_lexer": "ipython3",
   "version": "3.6.3"
  }
 },
 "nbformat": 4,
 "nbformat_minor": 2
}
